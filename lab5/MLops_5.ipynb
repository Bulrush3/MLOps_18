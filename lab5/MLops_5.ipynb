{
  "nbformat": 4,
  "nbformat_minor": 0,
  "metadata": {
    "colab": {
      "provenance": []
    },
    "kernelspec": {
      "name": "python3",
      "display_name": "Python 3"
    },
    "language_info": {
      "name": "python"
    }
  },
  "cells": [
    {
      "cell_type": "code",
      "source": [
        "import numpy as np\n",
        "import pandas as pd\n",
        "from sklearn.linear_model import LinearRegression\n",
        "from sklearn.model_selection import train_test_split\n",
        "from sklearn.metrics import mean_squared_error, r2_score\n",
        "from sklearn.preprocessing import StandardScaler, OneHotEncoder\n",
        "from sklearn.pipeline import make_pipeline\n",
        "from sklearn.compose import ColumnTransformer\n",
        "import matplotlib.pyplot as plt\n",
        "import seaborn as sns\n",
        "from joblib import dump, load"
      ],
      "metadata": {
        "id": "wZ0Rh8MLBLtT"
      },
      "execution_count": null,
      "outputs": []
    },
    {
      "cell_type": "markdown",
      "source": [
        "# Создание датасетов"
      ],
      "metadata": {
        "id": "hcFqlpWpFKiu"
      }
    },
    {
      "cell_type": "code",
      "source": [
        "!mkdir df_1 df_2 df_3 df_4"
      ],
      "metadata": {
        "id": "erjclareFJNF"
      },
      "execution_count": null,
      "outputs": []
    },
    {
      "cell_type": "code",
      "source": [
        "import pandas as pd\n",
        "import numpy as np\n",
        "\n",
        "def generate_data(n_obs=500, noise=False):\n",
        "    # Генерация данных\n",
        "    gender = pd.Categorical(np.random.randint(0, 2, size=n_obs))\n",
        "    age = np.random.randint(17, 25, size=n_obs)\n",
        "    hours_studied = np.random.randint(1, 10, size=n_obs)\n",
        "    extracurricular_activities = pd.Categorical(np.random.randint(0, 2, size=n_obs)).astype(int)\n",
        "    exam_score = 10 * hours_studied + 5 * extracurricular_activities + 5 * np.random.randn(n_obs)\n",
        "\n",
        "    # Создание датафрейма\n",
        "    data = pd.DataFrame({\n",
        "        \"пол\": gender,\n",
        "        \"возраст\": age,\n",
        "        \"часы_учебы\": hours_studied,\n",
        "        \"внеучебные_занятия\": extracurricular_activities,\n",
        "        \"баллы_за_экзамен\": exam_score\n",
        "    })\n",
        "\n",
        "    # Добавление шума\n",
        "    if noise:\n",
        "        data[\"баллы_за_экзамен\"] = data[\"баллы_за_экзамен\"] + 10 * np.random.randn(n_obs)\n",
        "\n",
        "    return data\n",
        "\n",
        "# Пример использования\n",
        "student_data = generate_data(n_obs=1000, noise=True)\n",
        "print(student_data.head())"
      ],
      "metadata": {
        "colab": {
          "base_uri": "https://localhost:8080/"
        },
        "id": "Sb5ti6JG-xiz",
        "outputId": "1ff794bc-71f9-46f5-f45b-73b2d451185e"
      },
      "execution_count": null,
      "outputs": [
        {
          "output_type": "stream",
          "name": "stdout",
          "text": [
            "  пол  возраст  часы_учебы  внеучебные_занятия  баллы_за_экзамен\n",
            "0   1       22           5                   1         58.041327\n",
            "1   0       18           7                   0         72.448822\n",
            "2   0       22           5                   1         54.513936\n",
            "3   0       24           8                   1         91.005230\n",
            "4   1       18           7                   0         69.710794\n"
          ]
        }
      ]
    },
    {
      "cell_type": "code",
      "source": [
        "df_1 = generate_data()\n",
        "df_2 = generate_data()\n",
        "df_3 = generate_data()\n",
        "df_4 = generate_data(noise=True)\n",
        "\n",
        "df_1.to_csv(\"df_1/df.сsv\", index=False)\n",
        "df_2.to_csv(\"df_2/df.сsv\", index=False)\n",
        "df_3.to_csv(\"df_3/df.сsv\", index=False)\n",
        "df_4.to_csv(\"df_4/df.сsv\", index=False)"
      ],
      "metadata": {
        "id": "9nF7RIsNRIgy"
      },
      "execution_count": null,
      "outputs": []
    },
    {
      "cell_type": "markdown",
      "source": [
        "# Preprocessing"
      ],
      "metadata": {
        "id": "LsORugAcSmmj"
      }
    },
    {
      "cell_type": "code",
      "source": [
        "def select_categorical(data):\n",
        "    return (\n",
        "        data.drop(columns=\"баллы_за_экзамен\")\n",
        "        .select_dtypes(include=object)\n",
        "        .columns.to_list()\n",
        "    )\n",
        "\n",
        "\n",
        "def select_num(data):\n",
        "    return (\n",
        "        data.drop(columns=\"баллы_за_экзамен\")\n",
        "        .select_dtypes(exclude=object)\n",
        "        .columns.to_list()\n",
        "    )"
      ],
      "metadata": {
        "id": "Cs4tkyQFSKbd"
      },
      "execution_count": null,
      "outputs": []
    },
    {
      "cell_type": "code",
      "source": [
        "cat_features = select_categorical(df_1)\n",
        "num_features = select_num(df_1)"
      ],
      "metadata": {
        "id": "OiOrHesUSuko"
      },
      "execution_count": null,
      "outputs": []
    },
    {
      "cell_type": "code",
      "source": [
        "# Пайплайн для препроцессинга данных и выполнения прогноза\n",
        "pipeline = make_pipeline(\n",
        "    ColumnTransformer(\n",
        "        transformers=[\n",
        "            (\"encoder\", OneHotEncoder(drop=\"if_binary\", handle_unknown=\"ignore\", sparse=False), cat_features),\n",
        "            (\"scaler\", StandardScaler(), num_features)]),\n",
        "    LinearRegression(),\n",
        ")"
      ],
      "metadata": {
        "id": "Wf6p8xb-T7z5"
      },
      "execution_count": null,
      "outputs": []
    },
    {
      "cell_type": "code",
      "source": [
        "X = df_1.drop(columns=[\"баллы_за_экзамен\"])\n",
        "y = df_1[\"баллы_за_экзамен\"]\n",
        "\n",
        "# Разделение на обучающий и тестовый наборы данных\n",
        "X_train, X_test, y_train, y_test = train_test_split(\n",
        "    X, y, test_size=0.15, random_state=42\n",
        ")\n",
        "\n",
        "print(\"Размер тренировочного набора данных (X):\", X_train.shape)\n",
        "print(\"Размер тестового набора данных (X):\", X_test.shape)\n",
        "print(\"Размер тренировочного набора данных (y):\", y_train.shape)\n",
        "print(\"Размер тестового набора данных (y):\", y_test.shape)"
      ],
      "metadata": {
        "colab": {
          "base_uri": "https://localhost:8080/"
        },
        "id": "Pp4lrqL_Vb-b",
        "outputId": "80ce0ddd-b17c-4fb7-e356-083a856af4ff"
      },
      "execution_count": null,
      "outputs": [
        {
          "output_type": "stream",
          "name": "stdout",
          "text": [
            "Размер тренировочного набора данных (X): (425, 4)\n",
            "Размер тестового набора данных (X): (75, 4)\n",
            "Размер тренировочного набора данных (y): (425,)\n",
            "Размер тестового набора данных (y): (75,)\n"
          ]
        }
      ]
    },
    {
      "cell_type": "code",
      "source": [
        "# Инициализация и обучение модели\n",
        "pipeline.fit(X_train, y_train)\n",
        "\n",
        "# Сохранение обученной модели\n",
        "dump(pipeline, \"pipeline.joblib\")"
      ],
      "metadata": {
        "colab": {
          "base_uri": "https://localhost:8080/"
        },
        "id": "A48l11BfVokg",
        "outputId": "87b6ec90-e788-4f04-93f2-b5930a726be0"
      },
      "execution_count": null,
      "outputs": [
        {
          "output_type": "execute_result",
          "data": {
            "text/plain": [
              "['pipeline.joblib']"
            ]
          },
          "metadata": {},
          "execution_count": 11
        }
      ]
    },
    {
      "cell_type": "code",
      "source": [
        "# Прогнозирование на тестовом наборе данных\n",
        "y_pred_df1 = pipeline.predict(X_test)\n",
        "\n",
        "# Вычисление средней абсолютной ошибки и коэффициента детерминации\n",
        "MSE = mean_squared_error(y_test, y_pred_df1)\n",
        "r2 = r2_score(y_test, y_pred_df1)\n",
        "print(\"Средняя абсолютная ошибка (MSE):\", MSE)\n",
        "print(\"Коэффициент детерминации (R^2):\", r2)"
      ],
      "metadata": {
        "colab": {
          "base_uri": "https://localhost:8080/"
        },
        "id": "gyrvXhCBV2u4",
        "outputId": "e53a1f35-b2c3-4938-fdec-26bc6027fc0c"
      },
      "execution_count": null,
      "outputs": [
        {
          "output_type": "stream",
          "name": "stdout",
          "text": [
            "Средняя абсолютная ошибка (MSE): 23.851051094085808\n",
            "Коэффициент детерминации (R^2): 0.9689465920694503\n"
          ]
        }
      ]
    },
    {
      "cell_type": "markdown",
      "source": [
        "# Создание файла для тестирования"
      ],
      "metadata": {
        "id": "ehhbbdSQXRSg"
      }
    },
    {
      "cell_type": "code",
      "source": [
        "%%writefile test_score.py\n",
        "import numpy as np\n",
        "import pandas as pd\n",
        "import pytest\n",
        "from joblib import load\n",
        "from sklearn.metrics import mean_squared_error, r2_score\n",
        "\n",
        "@pytest.fixture()\n",
        "def load_pipeline():\n",
        "    pipeline = load(\"/content/pipeline.joblib\")\n",
        "    return pipeline\n",
        "\n",
        "@pytest.fixture()\n",
        "def load_data_and_get_pred(load_pipeline):\n",
        "    data = pd.read_csv(\"df.сsv\")\n",
        "    X = data.drop(columns=\"баллы_за_экзамен\")\n",
        "    y = data[\"баллы_за_экзамен\"]\n",
        "    y_pred = load_pipeline.predict(X)\n",
        "    return y, y_pred\n",
        "\n",
        "def test_mse(load_data_and_get_pred):\n",
        "    y, y_pred = load_data_and_get_pred\n",
        "    assert mean_squared_error(y, y_pred) < 10\n",
        "\n",
        "def test_r2(load_data_and_get_pred):\n",
        "    y, y_pred = load_data_and_get_pred\n",
        "    assert r2_score(y, y_pred) > 0.9"
      ],
      "metadata": {
        "colab": {
          "base_uri": "https://localhost:8080/"
        },
        "id": "AH9uo2V-XQlU",
        "outputId": "28eef6ad-d1b9-4eb5-adaa-d1573ef54840"
      },
      "execution_count": null,
      "outputs": [
        {
          "output_type": "stream",
          "name": "stdout",
          "text": [
            "Writing test_score.py\n"
          ]
        }
      ]
    },
    {
      "cell_type": "markdown",
      "source": [
        "# Тестирование с различными данными"
      ],
      "metadata": {
        "id": "22X7OVXyCeFu"
      }
    },
    {
      "cell_type": "code",
      "source": [
        "%cd df_1\n",
        "!pytest -v /content/test_score.py\n",
        "%cd /content"
      ],
      "metadata": {
        "colab": {
          "base_uri": "https://localhost:8080/"
        },
        "id": "ZE_cWvX6bwsK",
        "outputId": "ec4dcc0e-8d89-40be-82fb-d265423b2a08"
      },
      "execution_count": null,
      "outputs": [
        {
          "output_type": "stream",
          "name": "stdout",
          "text": [
            "/content/df_1\n",
            "\u001b[1m======================================= test session starts ========================================\u001b[0m\n",
            "platform linux -- Python 3.10.12, pytest-7.4.4, pluggy-1.5.0 -- /usr/bin/python3\n",
            "cachedir: .pytest_cache\n",
            "rootdir: /content\n",
            "plugins: anyio-3.7.1\n",
            "collected 2 items                                                                                  \u001b[0m\n",
            "\n",
            "../test_score.py::test_mse \u001b[32mPASSED\u001b[0m\u001b[32m                                                            [ 50%]\u001b[0m\n",
            "../test_score.py::test_r2 \u001b[32mPASSED\u001b[0m\u001b[32m                                                             [100%]\u001b[0m\n",
            "\n",
            "\u001b[32m======================================== \u001b[32m\u001b[1m2 passed\u001b[0m\u001b[32m in 1.57s\u001b[0m\u001b[32m =========================================\u001b[0m\n",
            "/content\n"
          ]
        }
      ]
    },
    {
      "cell_type": "code",
      "source": [
        "%cd df_2\n",
        "!pytest -v /content/test_score.py\n",
        "%cd /content"
      ],
      "metadata": {
        "colab": {
          "base_uri": "https://localhost:8080/"
        },
        "id": "T8cIsBlA3hr9",
        "outputId": "ed53116c-4216-4427-f560-44978fa6e716"
      },
      "execution_count": null,
      "outputs": [
        {
          "output_type": "stream",
          "name": "stdout",
          "text": [
            "/content/df_2\n",
            "\u001b[1m======================================= test session starts ========================================\u001b[0m\n",
            "platform linux -- Python 3.10.12, pytest-7.4.4, pluggy-1.5.0 -- /usr/bin/python3\n",
            "cachedir: .pytest_cache\n",
            "rootdir: /content\n",
            "plugins: anyio-3.7.1\n",
            "collected 2 items                                                                                  \u001b[0m\n",
            "\n",
            "../test_score.py::test_mse \u001b[32mPASSED\u001b[0m\u001b[32m                                                            [ 50%]\u001b[0m\n",
            "../test_score.py::test_r2 \u001b[32mPASSED\u001b[0m\u001b[32m                                                             [100%]\u001b[0m\n",
            "\n",
            "\u001b[32m======================================== \u001b[32m\u001b[1m2 passed\u001b[0m\u001b[32m in 1.07s\u001b[0m\u001b[32m =========================================\u001b[0m\n",
            "/content\n"
          ]
        }
      ]
    },
    {
      "cell_type": "code",
      "source": [
        "%cd df_3\n",
        "!pytest -v /content/test_score.py\n",
        "%cd /content"
      ],
      "metadata": {
        "colab": {
          "base_uri": "https://localhost:8080/"
        },
        "id": "9AzHhvsI3hfE",
        "outputId": "a05ff054-4447-4f43-b1e2-c8df199ed7fa"
      },
      "execution_count": null,
      "outputs": [
        {
          "output_type": "stream",
          "name": "stdout",
          "text": [
            "/content/df_3\n",
            "\u001b[1m======================================= test session starts ========================================\u001b[0m\n",
            "platform linux -- Python 3.10.12, pytest-7.4.4, pluggy-1.5.0 -- /usr/bin/python3\n",
            "cachedir: .pytest_cache\n",
            "rootdir: /content\n",
            "plugins: anyio-3.7.1\n",
            "collected 2 items                                                                                  \u001b[0m\n",
            "\n",
            "../test_score.py::test_mse \u001b[32mPASSED\u001b[0m\u001b[32m                                                            [ 50%]\u001b[0m\n",
            "../test_score.py::test_r2 \u001b[32mPASSED\u001b[0m\u001b[32m                                                             [100%]\u001b[0m\n",
            "\n",
            "\u001b[32m======================================== \u001b[32m\u001b[1m2 passed\u001b[0m\u001b[32m in 1.05s\u001b[0m\u001b[32m =========================================\u001b[0m\n",
            "/content\n"
          ]
        }
      ]
    },
    {
      "cell_type": "code",
      "source": [
        "%cd df_4\n",
        "!pytest -v /content/test_score.py\n",
        "%cd /content"
      ],
      "metadata": {
        "colab": {
          "base_uri": "https://localhost:8080/"
        },
        "id": "xeXu2l3q3hcH",
        "outputId": "a7634682-a438-4aeb-f1f6-1bb00b0a9b25"
      },
      "execution_count": null,
      "outputs": [
        {
          "output_type": "stream",
          "name": "stdout",
          "text": [
            "/content/df_4\n",
            "\u001b[1m======================================= test session starts ========================================\u001b[0m\n",
            "platform linux -- Python 3.10.12, pytest-7.4.4, pluggy-1.5.0 -- /usr/bin/python3\n",
            "cachedir: .pytest_cache\n",
            "rootdir: /content\n",
            "plugins: anyio-3.7.1\n",
            "collected 2 items                                                                                  \u001b[0m\n",
            "\n",
            "../test_score.py::test_mse \u001b[32mPASSED\u001b[0m\u001b[32m                                                            [ 50%]\u001b[0m\n",
            "../test_score.py::test_r2 \u001b[31mFAILED\u001b[0m\u001b[31m                                                             [100%]\u001b[0m\n",
            "\n",
            "============================================= FAILURES =============================================\n",
            "\u001b[31m\u001b[1m_____________________________________________ test_r2 ______________________________________________\u001b[0m\n",
            "\n",
            "load_data_and_get_pred = (0      82.522585\n",
            "1      36.015559\n",
            "2      52.952397\n",
            "3      73.864353\n",
            "4      52.225942\n",
            "         ...    \n",
            "495    17.62298...21216, 44.99372131, 59.19094011, 85.34869186,\n",
            "       20.22131707, 64.97656886, 25.10819262, 84.25530094, 14.60729111]))\n",
            "\n",
            "    \u001b[94mdef\u001b[39;49;00m \u001b[92mtest_r2\u001b[39;49;00m(load_data_and_get_pred):\u001b[90m\u001b[39;49;00m\n",
            "        y, y_pred = load_data_and_get_pred\u001b[90m\u001b[39;49;00m\n",
            ">       \u001b[94massert\u001b[39;49;00m r2_score(y, y_pred) > \u001b[94m0.9\u001b[39;49;00m\u001b[90m\u001b[39;49;00m\n",
            "\u001b[1m\u001b[31mE       assert 0.8529499336161208 > 0.9\u001b[0m\n",
            "\u001b[1m\u001b[31mE        +  where 0.8529499336161208 = r2_score(0      82.522585\\n1      36.015559\\n2      52.952397\\n3      73.864353\\n4      52.225942\\n         ...    \\n495    17.622985\\n496    60.488373\\n497     6.147936\\n498    98.072374\\n499    34.503297\\nName: баллы_за_экзамен, Length: 500, dtype: float64, array([89.96664577, 24.11212056, 44.38692471, 79.87790313, 49.19951634,\\n       28.73007446, 44.09496811, 39.01345483, 75.55190582, 58.99630238,\\n       94.53868131,  8.84454578, 68.98772616, 88.67861711, 79.17378766,\\n       44.99372131, 19.32256388, 69.69184162, 35.29425412, 58.80166465,\\n       74.96799263, 89.96664577, 84.74189527, 88.97057371, 49.19951634,\\n       58.80166465, 64.46709112, 79.6832654 ,  9.13650237, 59.99237444,\\n       19.83204161, 54.37834848, 64.36977226, 19.41988274, 49.00487861,\\n       44.28960584, 40.20416462, 54.18371075, 65.26852545, 80.26717859,\\n       80.26717859, 79.97522199, 39.20809256, 49.10219747, 89.57737031,\\n       78.88183107, 84.06066321, 80.16985972, 19.12792615, 69.88647935,\\n       45.09104017, 95.04815905, 64.56440999, 28.73007446, 64.27245339,\\n       59.89505558, 20.12399821,  9.64598011, 19.41988274, 15.11676884,\\n       74.26387717, 65.07388772, 78.68719334, 35.68352958, 64.56440999,\\n       30.21274085, 65.26852545, 88.67861711, 54.67030507, 49.2968352 ,\\n       19.32256388, 84.06066321,  9.42845897, 10.32721216, 64.75904771,\\n       14.21801565, 48.71292201, 65.56048204, 54.76762394, 74.36119603,\\n       64.27245339, 90.25860236, 29.92078425, ...283035, 54.98514508, 34.39550093, 70.17843595,\\n       65.26852545, 55.08246394, 18.73865069, 18.83596955, 29.21666879,\\n       74.65315263, 44.99372131, 84.44993867, 44.48424357, 89.2625303 ,\\n       44.19228698, 94.53868131, 88.77593598, 39.7175703 , 90.25860236,\\n       14.12069679, 88.97057371, 44.48424357, 59.70041785, 54.28102962,\\n       39.40273029, 19.41988274, 24.20943943, 54.08639189, 50.09826953,\\n       95.63207223, 44.28960584, 64.75904771, 48.90755974, 35.39157299,\\n       14.60729111, 19.92936048,  9.13650237, 14.41265338, 94.44136245,\\n       45.38299676, 79.0764688 , 25.49746808, 59.38557784, 69.78916049,\\n       39.7175703 , 95.53475337, 74.75047149, 88.87325484, 14.50997224,\\n       35.19693526, 79.97522199, 65.65780091, 75.25994922, 59.79773671,\\n       19.83204161, 74.36119603, 89.2625303 , 65.46316318, 70.08111708,\\n       58.99630238, 10.03525557, 64.27245339, 10.2298933 , 15.21408771,\\n       48.90755974, 28.73007446, 65.46316318, 85.251373  ,  9.3311401 ,\\n       35.09961639, 30.01810312, 24.11212056,  9.03918351, 10.32721216,\\n       85.54332959, 10.32721216, 44.99372131, 59.19094011, 85.34869186,\\n       20.22131707, 64.97656886, 25.10819262, 84.25530094, 14.60729111]))\u001b[0m\n",
            "\n",
            "\u001b[1m\u001b[31m../test_score.py\u001b[0m:28: AssertionError\n",
            "\u001b[36m\u001b[1m===================================== short test summary info ======================================\u001b[0m\n",
            "\u001b[31mFAILED\u001b[0m ../test_score.py::\u001b[1mtest_r2\u001b[0m - assert 0.8529499336161208 > 0.9\n",
            "\u001b[31m=================================== \u001b[31m\u001b[1m1 failed\u001b[0m, \u001b[32m1 passed\u001b[0m\u001b[31m in 1.20s\u001b[0m\u001b[31m ====================================\u001b[0m\n",
            "/content\n"
          ]
        }
      ]
    },
    {
      "cell_type": "markdown",
      "source": [
        "**Датасеты 1,2,3 успешно прошли тестирование, а тест с \"шумовым\" датасетом (№4) провалился**"
      ],
      "metadata": {
        "id": "ETulmby9Cnkp"
      }
    },
    {
      "cell_type": "markdown",
      "source": [
        "Ниже идут ячейки с кодом, которые были на паре 6.05"
      ],
      "metadata": {
        "id": "ySy5_4GEEYTX"
      }
    },
    {
      "cell_type": "code",
      "source": [
        "# xs = np.linspace(0,10,100)\n",
        "# ys = 1.5 * xs + np.random.random(100)*2 - 1\n",
        "\n",
        "# plt.scatter(xs, ys)\n",
        "# plt.show()"
      ],
      "metadata": {
        "id": "FblVGQGgD3o1"
      },
      "execution_count": null,
      "outputs": []
    },
    {
      "cell_type": "code",
      "source": [
        "# reg = LinearRegression()\n",
        "# reg.fit(xs.reshape(-1, 1), ys)\n",
        "# approx = reg.predict(xs.reshape(-1, 1))\n",
        "# print(\"MSE: %.2f\" % mean_squared_error(ys, approx))\n",
        "# print(\"Coeff of determination: %.2f\" % r2_score(ys, approx))\n",
        "# print(\"Coefficients: \", reg.coef_)\n",
        "\n",
        "# plt.scatter(xs, ys)\n",
        "# plt.plot(xs.reshape(-1, 1), approx, color=\"red\", linewidth=3)\n",
        "# plt.show()\n",
        "# np.savetxt(\"ys.csv\", ys, delimiter=\",\")\n",
        "# np.savetxt(\"approx.csv\", approx, delimiter=\",\")"
      ],
      "metadata": {
        "id": "m6N8V-BhD3mG"
      },
      "execution_count": null,
      "outputs": []
    },
    {
      "cell_type": "code",
      "source": [
        "# %%writefile test.py\n",
        "# import pytest\n",
        "\n",
        "# def test_err():\n",
        "#   assert 1 == 2\n",
        "\n",
        "# def test_ok():\n",
        "#   assert 1 == 1"
      ],
      "metadata": {
        "id": "vxb0lpUED3jS"
      },
      "execution_count": null,
      "outputs": []
    },
    {
      "cell_type": "code",
      "source": [
        "# !pytest -v test.py"
      ],
      "metadata": {
        "id": "JzTaNLBBD3gZ"
      },
      "execution_count": null,
      "outputs": []
    },
    {
      "cell_type": "code",
      "source": [
        "# !mkdir test_module"
      ],
      "metadata": {
        "id": "YgjZ0-f8D3ds"
      },
      "execution_count": null,
      "outputs": []
    },
    {
      "cell_type": "code",
      "source": [
        "# %%writefile test_module/test_unit.py\n",
        "# import unittest\n",
        "# import numpy as np\n",
        "# from sklearn.metrics import mean_squared_error, r2_score\n",
        "\n",
        "# class TestMethods(unittest.TestCase):\n",
        "\n",
        "#   def test_upper(self):\n",
        "#     self.assertEqual('foo'.upper(), 'FOO2')\n",
        "\n",
        "#   def test_mse(self):\n",
        "#     ys = np.loadtxt(\"ys.csv\")\n",
        "#     approx = np.loadtxt(\"approx.csv\")\n",
        "#     self.assertTrue(mean_squared_error(ys, approx) < 1)\n",
        "\n",
        "# if __name__ == '__main__':\n",
        "#   unittest.main()"
      ],
      "metadata": {
        "id": "LxZzGKU7D3a0"
      },
      "execution_count": null,
      "outputs": []
    },
    {
      "cell_type": "code",
      "source": [
        "# !python -m unittest test_module/test_unit.py"
      ],
      "metadata": {
        "id": "31c2R2qBEIiA"
      },
      "execution_count": null,
      "outputs": []
    },
    {
      "cell_type": "code",
      "source": [
        "# %%writefile test_score.py\n",
        "# import pytest\n",
        "# import numpy as np\n",
        "# from sklearn.metrics import mean_squared_error, r2_score\n",
        "\n",
        "# @pytest.fixture()\n",
        "# def load_ys():\n",
        "#   ys = np.loadtxt(\"ys.csv\", delimiter=',')\n",
        "#   return (ys)\n",
        "\n",
        "# @pytest.fixture()\n",
        "# def load_approx():\n",
        "#   approx = np.loadtxt(\"approx.csv\", delimiter=',')\n",
        "#   return (approx)\n",
        "\n",
        "# def test_mse(load_ys, load_approx):\n",
        "#   assert mean_squared_error(load_ys, load_approx) < 0.5\n",
        "\n",
        "# def test_r2(load_ys, load_approx):\n",
        "#   assert r2_score(load_ys, load_approx) > 0.9"
      ],
      "metadata": {
        "id": "nbkjZY1IEK_y"
      },
      "execution_count": null,
      "outputs": []
    },
    {
      "cell_type": "code",
      "source": [
        "# !pytest -v test_score.py"
      ],
      "metadata": {
        "id": "vKEeK1RFEOwU"
      },
      "execution_count": null,
      "outputs": []
    },
    {
      "cell_type": "code",
      "source": [
        "# xs = np.linspace(0, 10, 100)\n",
        "# ys = 1.5 * xs + np.random.random(100)*2 - 1\n",
        "# ys[25:45] += 3\n",
        "\n",
        "# approx = reg.predict(xs.reshape(-1, 1))\n",
        "# print(\"MSE: %.2f\" % mean_squared_error(ys, approx))\n",
        "# print(\"Coeff of determination: %.2f\" % r2_score(ys, approx))\n",
        "# print(\"Coefficients: \", reg.coef_)\n",
        "\n",
        "# plt.scatter(xs, ys)\n",
        "# plt.plot(xs.reshape(-1, 1), approx, color=\"red\", linewidth=3)\n",
        "# plt.show()\n",
        "# np.savetxt(\"ys.csv\", ys, delimiter=\",\")\n",
        "# np.savetxt(\"approx.csv\", approx, delimiter=\",\")"
      ],
      "metadata": {
        "id": "ZxHri3iXERme"
      },
      "execution_count": null,
      "outputs": []
    }
  ]
}