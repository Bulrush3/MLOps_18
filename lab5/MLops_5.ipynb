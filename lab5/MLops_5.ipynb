{
  "nbformat": 4,
  "nbformat_minor": 0,
  "metadata": {
    "colab": {
      "provenance": []
    },
    "kernelspec": {
      "name": "python3",
      "display_name": "Python 3"
    },
    "language_info": {
      "name": "python"
    }
  },
  "cells": [
    {
      "cell_type": "code",
      "source": [
        "import numpy as np\n",
        "import pandas as pd\n",
        "from sklearn.linear_model import LinearRegression\n",
        "from sklearn.model_selection import train_test_split\n",
        "from sklearn.metrics import mean_squared_error, r2_score\n",
        "from sklearn.preprocessing import StandardScaler, OneHotEncoder\n",
        "from sklearn.pipeline import make_pipeline\n",
        "from sklearn.compose import ColumnTransformer\n",
        "import matplotlib.pyplot as plt\n",
        "import seaborn as sns\n",
        "from joblib import dump, load"
      ],
      "metadata": {
        "id": "wZ0Rh8MLBLtT"
      },
      "execution_count": null,
      "outputs": []
    },
    {
      "cell_type": "markdown",
      "source": [
        "# Создание датасетов"
      ],
      "metadata": {
        "id": "hcFqlpWpFKiu"
      }
    },
    {
      "cell_type": "code",
      "source": [
        "!mkdir df_1 df_2 df_3 df_4"
      ],
      "metadata": {
        "id": "erjclareFJNF"
      },
      "execution_count": null,
      "outputs": []
    },
    {
      "cell_type": "code",
      "source": [
        "import pandas as pd\n",
        "import numpy as np\n",
        "\n",
        "def generate_data(n_obs=500, noise=False):\n",
        "    # Генерация данных\n",
        "    gender = pd.Categorical(np.random.randint(0, 2, size=n_obs))\n",
        "    age = np.random.randint(17, 25, size=n_obs)\n",
        "    hours_studied = np.random.randint(1, 10, size=n_obs)\n",
        "    extracurricular_activities = pd.Categorical(np.random.randint(0, 2, size=n_obs)).astype(int)\n",
        "    exam_score = 10 * hours_studied + 5 * extracurricular_activities + 5 * np.random.randn(n_obs)\n",
        "\n",
        "    # Создание датафрейма\n",
        "    data = pd.DataFrame({\n",
        "        \"пол\": gender,\n",
        "        \"возраст\": age,\n",
        "        \"часы_учебы\": hours_studied,\n",
        "        \"внеучебные_занятия\": extracurricular_activities,\n",
        "        \"баллы_за_экзамен\": exam_score\n",
        "    })\n",
        "\n",
        "    # Добавление шума\n",
        "    if noise:\n",
        "        data[\"баллы_за_экзамен\"] = data[\"баллы_за_экзамен\"] + 10 * np.random.randn(n_obs)\n",
        "\n",
        "    return data\n",
        "\n",
        "# Пример использования\n",
        "student_data = generate_data(n_obs=1000, noise=True)\n",
        "print(student_data.head())"
      ],
      "metadata": {
        "colab": {
          "base_uri": "https://localhost:8080/"
        },
        "id": "Sb5ti6JG-xiz",
        "outputId": "a15a2a1d-5bb9-4d2c-86d7-3130c50f189f"
      },
      "execution_count": null,
      "outputs": [
        {
          "output_type": "stream",
          "name": "stdout",
          "text": [
            "  пол  возраст  часы_учебы  внеучебные_занятия  баллы_за_экзамен\n",
            "0   0       21           8                   1         85.381842\n",
            "1   0       22           7                   1         64.295776\n",
            "2   1       19           2                   1         35.732973\n",
            "3   0       18           1                   0         -4.848121\n",
            "4   0       23           8                   1         92.669446\n"
          ]
        }
      ]
    },
    {
      "cell_type": "code",
      "source": [
        "df_1 = generate_data()\n",
        "df_2 = generate_data()\n",
        "df_3 = generate_data()\n",
        "df_4 = generate_data(noise=True)\n",
        "\n",
        "df_1.to_csv(\"df_1/df.сsv\", index=False)\n",
        "df_2.to_csv(\"df_2/df.сsv\", index=False)\n",
        "df_3.to_csv(\"df_3/df.сsv\", index=False)\n",
        "df_4.to_csv(\"df_4/df.сsv\", index=False)"
      ],
      "metadata": {
        "id": "9nF7RIsNRIgy"
      },
      "execution_count": null,
      "outputs": []
    }
  ]
}